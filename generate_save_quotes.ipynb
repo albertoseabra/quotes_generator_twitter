{
 "cells": [
  {
   "cell_type": "code",
   "execution_count": 41,
   "metadata": {
    "collapsed": true
   },
   "outputs": [],
   "source": [
    "import pandas as pd\n",
    "import numpy as np\n",
    "import fastai "
   ]
  },
  {
   "cell_type": "code",
   "execution_count": 4,
   "metadata": {
    "collapsed": true
   },
   "outputs": [],
   "source": [
    "from fastai.text import load_learner"
   ]
  },
  {
   "cell_type": "code",
   "execution_count": 11,
   "metadata": {},
   "outputs": [
    {
     "data": {
      "text/plain": [
       "'life is a beautiful place , a place of learning , more possibility , less stressed ,'"
      ]
     },
     "execution_count": 11,
     "metadata": {},
     "output_type": "execute_result"
    }
   ],
   "source": [
    "learn.predict(\"life is\", 15, temperature=0.9, no_unk=True)"
   ]
  },
  {
   "cell_type": "code",
   "execution_count": 35,
   "metadata": {
    "collapsed": true
   },
   "outputs": [],
   "source": [
    "def create_single_quote(model, seed, number_words, temperature):\n",
    "    \n",
    "    quote = model.predict(str(seed), number_words, temperature=temperature, no_unk=True)\n",
    "    \n",
    "    return quote.replace(\"xxbos\", \"\").replace(\"xxmaj\", \"\")"
   ]
  },
  {
   "cell_type": "code",
   "execution_count": 37,
   "metadata": {},
   "outputs": [],
   "source": [
    "def create_quotes_to_file(model, seed, number_words, temperature, number_quotes):\n",
    "    \n",
    "    quotes_list = []\n",
    "    for i in range(number_quotes):\n",
    "        quote = create_single_quote(model, seed, number_words, temperature)\n",
    "        quotes_list.append(quote)\n",
    "    \n",
    "    df = save_quotes_csv(quotes_list)\n",
    "    \n",
    "    return df"
   ]
  },
  {
   "cell_type": "code",
   "execution_count": 42,
   "metadata": {
    "collapsed": true
   },
   "outputs": [],
   "source": [
    "def save_quotes_csv(quotes_list):\n",
    "    print(\"saving new quotes\")\n",
    "    \n",
    "    df = pd.DataFrame({\"quote\":quotes_list, \"to_tweet\":np.zeros(len(quotes_list))})\n",
    "    \n",
    "    df.to_csv(\"generated_quotes\\generated_to_classify.csv\", index=False, encoding=\"utf-8\")\n",
    "    \n",
    "    return df"
   ]
  },
  {
   "cell_type": "code",
   "execution_count": 54,
   "metadata": {
    "collapsed": true
   },
   "outputs": [],
   "source": [
    "def separate_quotes_to_tweet():\n",
    "    \"\"\"\n",
    "    takes the file of the new quotes after being classified as \"to_tweet\" or not\n",
    "    adds the quotes to the file with all the quotes \"generated_all.csv\"\n",
    "    and adds the \"good ones\" to the file \"quotes_to_tweet.csv\"\n",
    "    \"\"\"\n",
    "    df = pd.read_csv(\"generated_quotes\\generated_to_classify.csv\", encoding=\"utf-8\")\n",
    "#     df.to_csv(\"generated_quotes\\generated_all.csv\", index=False, encoding=\"utf-8\")\n",
    "    with open('generated_quotes\\generated_all.csv', 'a', encoding=\"utf-8\") as f:\n",
    "        print(\"saving all quotes\")\n",
    "        df.to_csv(f, header=False, index=False, encoding=\"utf-8\")\n",
    "        \n",
    "        \n",
    "    df_to_tweet = df[df[\"to_tweet\"] == 1][\"quote\"]\n",
    "#     df_to_tweet.to_csv(\"generated_quotes\\quotes_to_tweet.csv\", index=False, encoding=\"utf-8\")\n",
    "    with open('generated_quotes\\quotes_to_tweet.csv', 'a', encoding=\"utf-8\") as f:\n",
    "        print(\"saving quotes_to_tweet\")\n",
    "        df_to_tweet.to_csv(f, header=False, index=False, encoding=\"utf-8\")\n",
    "        \n",
    "    return 0"
   ]
  },
  {
   "cell_type": "code",
   "execution_count": null,
   "metadata": {
    "collapsed": true
   },
   "outputs": [],
   "source": [
    "learn = load_learner(path=\"./\", fname = \"trained_model_quotes2.pkl\")"
   ]
  },
  {
   "cell_type": "code",
   "execution_count": 106,
   "metadata": {},
   "outputs": [
    {
     "name": "stdout",
     "output_type": "stream",
     "text": [
      "saving new quotes\n"
     ]
    },
    {
     "data": {
      "text/html": [
       "<div>\n",
       "<style scoped>\n",
       "    .dataframe tbody tr th:only-of-type {\n",
       "        vertical-align: middle;\n",
       "    }\n",
       "\n",
       "    .dataframe tbody tr th {\n",
       "        vertical-align: top;\n",
       "    }\n",
       "\n",
       "    .dataframe thead th {\n",
       "        text-align: right;\n",
       "    }\n",
       "</style>\n",
       "<table border=\"1\" class=\"dataframe\">\n",
       "  <thead>\n",
       "    <tr style=\"text-align: right;\">\n",
       "      <th></th>\n",
       "      <th>quote</th>\n",
       "      <th>to_tweet</th>\n",
       "    </tr>\n",
       "  </thead>\n",
       "  <tbody>\n",
       "    <tr>\n",
       "      <th>0</th>\n",
       "      <td>when life is difficult , he is strong and nev...</td>\n",
       "      <td>0.0</td>\n",
       "    </tr>\n",
       "    <tr>\n",
       "      <th>1</th>\n",
       "      <td>do not fear failure but rather fear not tryin...</td>\n",
       "      <td>0.0</td>\n",
       "    </tr>\n",
       "    <tr>\n",
       "      <th>2</th>\n",
       "      <td>let 's go of them . Let them be like the seed...</td>\n",
       "      <td>0.0</td>\n",
       "    </tr>\n",
       "    <tr>\n",
       "      <th>3</th>\n",
       "      <td>you are the only best left in the world . ”  ...</td>\n",
       "      <td>0.0</td>\n",
       "    </tr>\n",
       "    <tr>\n",
       "      <th>4</th>\n",
       "      <td>if you want to be original , if you have a de...</td>\n",
       "      <td>0.0</td>\n",
       "    </tr>\n",
       "    <tr>\n",
       "      <th>5</th>\n",
       "      <td>start your own , whatever you 're capable of ...</td>\n",
       "      <td>0.0</td>\n",
       "    </tr>\n",
       "    <tr>\n",
       "      <th>6</th>\n",
       "      <td>if you have a strong purpose in life , you do...</td>\n",
       "      <td>0.0</td>\n",
       "    </tr>\n",
       "    <tr>\n",
       "      <th>7</th>\n",
       "      <td>“ It is better to dance in the long run , lon...</td>\n",
       "      <td>0.0</td>\n",
       "    </tr>\n",
       "    <tr>\n",
       "      <th>8</th>\n",
       "      <td>the best things you can do is start where you...</td>\n",
       "      <td>0.0</td>\n",
       "    </tr>\n",
       "    <tr>\n",
       "      <th>9</th>\n",
       "      <td>discipline your mind to see the good in every...</td>\n",
       "      <td>0.0</td>\n",
       "    </tr>\n",
       "    <tr>\n",
       "      <th>10</th>\n",
       "      <td>You are the most important person in your lif...</td>\n",
       "      <td>0.0</td>\n",
       "    </tr>\n",
       "    <tr>\n",
       "      <th>11</th>\n",
       "      <td>learn to live the life of your dreams accordi...</td>\n",
       "      <td>0.0</td>\n",
       "    </tr>\n",
       "    <tr>\n",
       "      <th>12</th>\n",
       "      <td>you do n't have to be honest about what you w...</td>\n",
       "      <td>0.0</td>\n",
       "    </tr>\n",
       "    <tr>\n",
       "      <th>13</th>\n",
       "      <td>to what the world makes a woman ..... If you ...</td>\n",
       "      <td>0.0</td>\n",
       "    </tr>\n",
       "    <tr>\n",
       "      <th>14</th>\n",
       "      <td>“ do n’t set your dreams on that way . Rememb...</td>\n",
       "      <td>0.0</td>\n",
       "    </tr>\n",
       "    <tr>\n",
       "      <th>15</th>\n",
       "      <td>each day brings new opportunities to fix your...</td>\n",
       "      <td>0.0</td>\n",
       "    </tr>\n",
       "    <tr>\n",
       "      <th>16</th>\n",
       "      <td>courage is feeling fear , not getting rid of ...</td>\n",
       "      <td>0.0</td>\n",
       "    </tr>\n",
       "    <tr>\n",
       "      <th>17</th>\n",
       "      <td>be times you 're not God 's longing for yours...</td>\n",
       "      <td>0.0</td>\n",
       "    </tr>\n",
       "    <tr>\n",
       "      <th>18</th>\n",
       "      <td>and in my experience , it is true to say : \" ...</td>\n",
       "      <td>0.0</td>\n",
       "    </tr>\n",
       "    <tr>\n",
       "      <th>19</th>\n",
       "      <td>people are successful because they think and ...</td>\n",
       "      <td>0.0</td>\n",
       "    </tr>\n",
       "    <tr>\n",
       "      <th>20</th>\n",
       "      <td>instead of fighting within yourself , you can...</td>\n",
       "      <td>0.0</td>\n",
       "    </tr>\n",
       "    <tr>\n",
       "      <th>21</th>\n",
       "      <td>surround Yourself with People Who Believe in ...</td>\n",
       "      <td>0.0</td>\n",
       "    </tr>\n",
       "    <tr>\n",
       "      <th>22</th>\n",
       "      <td>“ What is you throwing ask for help if you di...</td>\n",
       "      <td>0.0</td>\n",
       "    </tr>\n",
       "    <tr>\n",
       "      <th>23</th>\n",
       "      <td>accept yourself , love yourself , and keep mo...</td>\n",
       "      <td>0.0</td>\n",
       "    </tr>\n",
       "    <tr>\n",
       "      <th>24</th>\n",
       "      <td>pointing grand words into those words . ”  “ ...</td>\n",
       "      <td>0.0</td>\n",
       "    </tr>\n",
       "    <tr>\n",
       "      <th>25</th>\n",
       "      <td>the pain of a loving sea makes the world a be...</td>\n",
       "      <td>0.0</td>\n",
       "    </tr>\n",
       "    <tr>\n",
       "      <th>26</th>\n",
       "      <td>do you know ? You ’re not perfect , you 're g...</td>\n",
       "      <td>0.0</td>\n",
       "    </tr>\n",
       "    <tr>\n",
       "      <th>27</th>\n",
       "      <td>you were born to stand out , stop trying to f...</td>\n",
       "      <td>0.0</td>\n",
       "    </tr>\n",
       "    <tr>\n",
       "      <th>28</th>\n",
       "      <td>“ In this fit of its own beauty , not only th...</td>\n",
       "      <td>0.0</td>\n",
       "    </tr>\n",
       "    <tr>\n",
       "      <th>29</th>\n",
       "      <td>even if you do n't like someone , do n't let ...</td>\n",
       "      <td>0.0</td>\n",
       "    </tr>\n",
       "  </tbody>\n",
       "</table>\n",
       "</div>"
      ],
      "text/plain": [
       "                                                quote  to_tweet\n",
       "0    when life is difficult , he is strong and nev...       0.0\n",
       "1    do not fear failure but rather fear not tryin...       0.0\n",
       "2    let 's go of them . Let them be like the seed...       0.0\n",
       "3    you are the only best left in the world . ”  ...       0.0\n",
       "4    if you want to be original , if you have a de...       0.0\n",
       "5    start your own , whatever you 're capable of ...       0.0\n",
       "6    if you have a strong purpose in life , you do...       0.0\n",
       "7    “ It is better to dance in the long run , lon...       0.0\n",
       "8    the best things you can do is start where you...       0.0\n",
       "9    discipline your mind to see the good in every...       0.0\n",
       "10   You are the most important person in your lif...       0.0\n",
       "11   learn to live the life of your dreams accordi...       0.0\n",
       "12   you do n't have to be honest about what you w...       0.0\n",
       "13   to what the world makes a woman ..... If you ...       0.0\n",
       "14   “ do n’t set your dreams on that way . Rememb...       0.0\n",
       "15   each day brings new opportunities to fix your...       0.0\n",
       "16   courage is feeling fear , not getting rid of ...       0.0\n",
       "17   be times you 're not God 's longing for yours...       0.0\n",
       "18   and in my experience , it is true to say : \" ...       0.0\n",
       "19   people are successful because they think and ...       0.0\n",
       "20   instead of fighting within yourself , you can...       0.0\n",
       "21   surround Yourself with People Who Believe in ...       0.0\n",
       "22   “ What is you throwing ask for help if you di...       0.0\n",
       "23   accept yourself , love yourself , and keep mo...       0.0\n",
       "24   pointing grand words into those words . ”  “ ...       0.0\n",
       "25   the pain of a loving sea makes the world a be...       0.0\n",
       "26   do you know ? You ’re not perfect , you 're g...       0.0\n",
       "27   you were born to stand out , stop trying to f...       0.0\n",
       "28   “ In this fit of its own beauty , not only th...       0.0\n",
       "29   even if you do n't like someone , do n't let ...       0.0"
      ]
     },
     "execution_count": 106,
     "metadata": {},
     "output_type": "execute_result"
    }
   ],
   "source": [
    "create_quotes_to_file(learn, seed=\"xxmaj\", number_words=20, temperature=0.85, number_quotes=30)"
   ]
  },
  {
   "cell_type": "code",
   "execution_count": 107,
   "metadata": {},
   "outputs": [
    {
     "name": "stdout",
     "output_type": "stream",
     "text": [
      "saving all quotes\n",
      "saving quotes_to_tweet\n"
     ]
    },
    {
     "data": {
      "text/plain": [
       "0"
      ]
     },
     "execution_count": 107,
     "metadata": {},
     "output_type": "execute_result"
    }
   ],
   "source": [
    "separate_quotes_to_tweet()"
   ]
  },
  {
   "cell_type": "code",
   "execution_count": null,
   "metadata": {
    "collapsed": true
   },
   "outputs": [],
   "source": []
  },
  {
   "cell_type": "code",
   "execution_count": null,
   "metadata": {
    "collapsed": true
   },
   "outputs": [],
   "source": []
  }
 ],
 "metadata": {
  "kernelspec": {
   "display_name": "Python 3",
   "language": "python",
   "name": "python3"
  },
  "language_info": {
   "codemirror_mode": {
    "name": "ipython",
    "version": 3
   },
   "file_extension": ".py",
   "mimetype": "text/x-python",
   "name": "python",
   "nbconvert_exporter": "python",
   "pygments_lexer": "ipython3",
   "version": "3.6.3"
  }
 },
 "nbformat": 4,
 "nbformat_minor": 2
}
